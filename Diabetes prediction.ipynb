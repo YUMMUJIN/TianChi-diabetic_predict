{
 "cells": [
  {
   "cell_type": "code",
   "execution_count": 1,
   "metadata": {},
   "outputs": [
    {
     "name": "stderr",
     "output_type": "stream",
     "text": [
      "/home/betten/anaconda3/lib/python3.6/site-packages/sklearn/cross_validation.py:41: DeprecationWarning: This module was deprecated in version 0.18 in favor of the model_selection module into which all the refactored classes and functions are moved. Also note that the interface of the new CV iterators are different from that of this module. This module will be removed in 0.20.\n",
      "  \"This module will be removed in 0.20.\", DeprecationWarning)\n"
     ]
    }
   ],
   "source": [
    "#coding:utf-8\n",
    "import time\n",
    "import datetime\n",
    "import numpy as np\n",
    "import pandas as pd\n",
    "\n",
    "import seaborn as sns\n",
    "import matplotlib\n",
    "\n",
    "import matplotlib.pyplot as plt\n",
    "from scipy.stats import skew\n",
    "from scipy.stats.stats import pearsonr\n",
    "\n",
    "\n",
    "%config InlineBackend.figure_format = 'retina' #set 'png' here when working on notebook\n",
    "%matplotlib inline\n",
    "\n",
    "\n",
    "import lightgbm as lgb\n",
    "from dateutil.parser import parse\n",
    "from sklearn.cross_validation import KFold\n",
    "from sklearn.metrics import mean_squared_error"
   ]
  },
  {
   "cell_type": "code",
   "execution_count": 136,
   "metadata": {
    "collapsed": true
   },
   "outputs": [],
   "source": [
    "data_path = './data/'\n",
    "train = pd.read_csv(data_path+'d_train_20180102.csv',encoding='gb2312')\n",
    "test = pd.read_csv(data_path+'d_test_A_20180102.csv',encoding='gb2312')"
   ]
  },
  {
   "cell_type": "code",
   "execution_count": 137,
   "metadata": {},
   "outputs": [
    {
     "name": "stdout",
     "output_type": "stream",
     "text": [
      "train shape (5642, 42)\n",
      "test shape (1000, 41)\n"
     ]
    }
   ],
   "source": [
    "print('train shape', train.shape)\n",
    "print('test shape', test.shape)"
   ]
  },
  {
   "cell_type": "code",
   "execution_count": 138,
   "metadata": {},
   "outputs": [],
   "source": [
    "#check the decoration\n",
    "train_cols = train.columns.tolist()\n",
    "test_cols = test.columns.tolist()"
   ]
  },
  {
   "cell_type": "code",
   "execution_count": 139,
   "metadata": {
    "collapsed": true
   },
   "outputs": [],
   "source": [
    "train_id = train.id.values.copy()\n",
    "test_id = test.id.values.copy()\n",
    "data = pd.concat([train,test])"
   ]
  },
  {
   "cell_type": "code",
   "execution_count": 140,
   "metadata": {},
   "outputs": [
    {
     "name": "stderr",
     "output_type": "stream",
     "text": [
      "/home/betten/anaconda3/lib/python3.6/site-packages/ipykernel_launcher.py:5: UserWarning: Boolean Series key will be reindexed to match DataFrame index.\n",
      "  \"\"\"\n",
      "/home/betten/anaconda3/lib/python3.6/site-packages/ipykernel_launcher.py:7: UserWarning: Boolean Series key will be reindexed to match DataFrame index.\n",
      "  import sys\n"
     ]
    },
    {
     "data": {
      "text/html": [
       "<div>\n",
       "<style>\n",
       "    .dataframe thead tr:only-child th {\n",
       "        text-align: right;\n",
       "    }\n",
       "\n",
       "    .dataframe thead th {\n",
       "        text-align: left;\n",
       "    }\n",
       "\n",
       "    .dataframe tbody tr th {\n",
       "        vertical-align: top;\n",
       "    }\n",
       "</style>\n",
       "<table border=\"1\" class=\"dataframe\">\n",
       "  <thead>\n",
       "    <tr style=\"text-align: right;\">\n",
       "      <th></th>\n",
       "      <th>Total</th>\n",
       "      <th>Percent</th>\n",
       "    </tr>\n",
       "  </thead>\n",
       "  <tbody>\n",
       "    <tr>\n",
       "      <th>乙肝e抗原</th>\n",
       "      <td>5110</td>\n",
       "      <td>0.769347</td>\n",
       "    </tr>\n",
       "    <tr>\n",
       "      <th>乙肝表面抗原</th>\n",
       "      <td>5110</td>\n",
       "      <td>0.769347</td>\n",
       "    </tr>\n",
       "    <tr>\n",
       "      <th>乙肝表面抗体</th>\n",
       "      <td>5110</td>\n",
       "      <td>0.769347</td>\n",
       "    </tr>\n",
       "    <tr>\n",
       "      <th>乙肝核心抗体</th>\n",
       "      <td>5110</td>\n",
       "      <td>0.769347</td>\n",
       "    </tr>\n",
       "    <tr>\n",
       "      <th>乙肝e抗体</th>\n",
       "      <td>5110</td>\n",
       "      <td>0.769347</td>\n",
       "    </tr>\n",
       "  </tbody>\n",
       "</table>\n",
       "</div>"
      ],
      "text/plain": [
       "        Total   Percent\n",
       "乙肝e抗原    5110  0.769347\n",
       "乙肝表面抗原   5110  0.769347\n",
       "乙肝表面抗体   5110  0.769347\n",
       "乙肝核心抗体   5110  0.769347\n",
       "乙肝e抗体    5110  0.769347"
      ]
     },
     "execution_count": 140,
     "metadata": {},
     "output_type": "execute_result"
    }
   ],
   "source": [
    "#missing data\n",
    "total = data.isnull().sum().sort_values(ascending=False)\n",
    "percent = (data.isnull().sum()/data.isnull().count()).sort_values(ascending=False)\n",
    "missing_data = pd.concat([total, percent], axis=1, keys=['Total', 'Percent'])\n",
    "min_miss_feat = missing_data[missing_data['Percent']<=0.2][missing_data['Percent']>0].index.tolist()\n",
    "max_miss_feat = missing_data[missing_data['Percent']>=0.6].index.tolist()\n",
    "generic_miss_feat = missing_data[missing_data['Percent']<0.6][missing_data['Percent']>0.2].index.tolist()\n",
    "missing_data.head(5)"
   ]
  },
  {
   "cell_type": "code",
   "execution_count": 141,
   "metadata": {},
   "outputs": [],
   "source": [
    "#描述性转数值型\n",
    "data['性别'] = data['性别'].map({'男':1, '女':0})\n",
    "data['体检日期'] = (pd.to_datetime(data['体检日期']) - parse('2017-10-09')).dt.days"
   ]
  },
  {
   "cell_type": "code",
   "execution_count": 142,
   "metadata": {
    "collapsed": true
   },
   "outputs": [],
   "source": [
    "#删除max_miss_feat列\n",
    "data = data.drop(max_miss_feat, axis=1)"
   ]
  },
  {
   "cell_type": "code",
   "execution_count": 143,
   "metadata": {},
   "outputs": [],
   "source": [
    "#min_miss_feat列使用均值填充\n",
    "for feat in min_miss_feat:\n",
    "    data[feat].fillna(data[feat].median(axis=0),inplace=True)"
   ]
  },
  {
   "cell_type": "code",
   "execution_count": 144,
   "metadata": {
    "collapsed": true
   },
   "outputs": [],
   "source": [
    "#对性别进行填充\n",
    "data['性别'].fillna(1.0, inplace=True)"
   ]
  },
  {
   "cell_type": "code",
   "execution_count": 145,
   "metadata": {},
   "outputs": [
    {
     "data": {
      "text/html": [
       "<div>\n",
       "<style>\n",
       "    .dataframe thead tr:only-child th {\n",
       "        text-align: right;\n",
       "    }\n",
       "\n",
       "    .dataframe thead th {\n",
       "        text-align: left;\n",
       "    }\n",
       "\n",
       "    .dataframe tbody tr th {\n",
       "        vertical-align: top;\n",
       "    }\n",
       "</style>\n",
       "<table border=\"1\" class=\"dataframe\">\n",
       "  <thead>\n",
       "    <tr style=\"text-align: right;\">\n",
       "      <th></th>\n",
       "      <th>Total</th>\n",
       "      <th>Percent</th>\n",
       "    </tr>\n",
       "  </thead>\n",
       "  <tbody>\n",
       "    <tr>\n",
       "      <th>肌酐</th>\n",
       "      <td>1572</td>\n",
       "      <td>0.236676</td>\n",
       "    </tr>\n",
       "    <tr>\n",
       "      <th>尿素</th>\n",
       "      <td>1572</td>\n",
       "      <td>0.236676</td>\n",
       "    </tr>\n",
       "    <tr>\n",
       "      <th>尿酸</th>\n",
       "      <td>1572</td>\n",
       "      <td>0.236676</td>\n",
       "    </tr>\n",
       "    <tr>\n",
       "      <th>*r-谷氨酰基转换酶</th>\n",
       "      <td>1406</td>\n",
       "      <td>0.211683</td>\n",
       "    </tr>\n",
       "    <tr>\n",
       "      <th>白蛋白</th>\n",
       "      <td>1406</td>\n",
       "      <td>0.211683</td>\n",
       "    </tr>\n",
       "  </tbody>\n",
       "</table>\n",
       "</div>"
      ],
      "text/plain": [
       "            Total   Percent\n",
       "肌酐           1572  0.236676\n",
       "尿素           1572  0.236676\n",
       "尿酸           1572  0.236676\n",
       "*r-谷氨酰基转换酶   1406  0.211683\n",
       "白蛋白          1406  0.211683"
      ]
     },
     "execution_count": 145,
     "metadata": {},
     "output_type": "execute_result"
    }
   ],
   "source": [
    "total = data.isnull().sum().sort_values(ascending=False)\n",
    "percent = (data.isnull().sum()/data.isnull().count()).sort_values(ascending=False)\n",
    "pd.concat([total, percent], axis=1, keys=['Total', 'Percent']).head()"
   ]
  },
  {
   "cell_type": "code",
   "execution_count": 146,
   "metadata": {},
   "outputs": [],
   "source": [
    "#对generic_miss_feat使用众数和中位数的均值填充,后期考虑特征相似度加权来填充\n",
    "for feat in generic_miss_feat:\n",
    "    fill_val = round((data[feat].median()+(data[feat].mode().values).mean())/2, 4)\n",
    "    data[feat].fillna(fill_val, inplace=True)"
   ]
  },
  {
   "cell_type": "code",
   "execution_count": 147,
   "metadata": {},
   "outputs": [
    {
     "data": {
      "text/html": [
       "<div>\n",
       "<style>\n",
       "    .dataframe thead tr:only-child th {\n",
       "        text-align: right;\n",
       "    }\n",
       "\n",
       "    .dataframe thead th {\n",
       "        text-align: left;\n",
       "    }\n",
       "\n",
       "    .dataframe tbody tr th {\n",
       "        vertical-align: top;\n",
       "    }\n",
       "</style>\n",
       "<table border=\"1\" class=\"dataframe\">\n",
       "  <thead>\n",
       "    <tr style=\"text-align: right;\">\n",
       "      <th></th>\n",
       "      <th>Missing Ratio</th>\n",
       "    </tr>\n",
       "  </thead>\n",
       "  <tbody>\n",
       "  </tbody>\n",
       "</table>\n",
       "</div>"
      ],
      "text/plain": [
       "Empty DataFrame\n",
       "Columns: [Missing Ratio]\n",
       "Index: []"
      ]
     },
     "execution_count": 147,
     "metadata": {},
     "output_type": "execute_result"
    }
   ],
   "source": [
    "#Check remaining missing values if any \n",
    "all_data_na = (data.isnull().sum() / len(data)) * 100\n",
    "all_data_na = all_data_na.drop(all_data_na[all_data_na == 0].index).sort_values(ascending=False)\n",
    "missing_data = pd.DataFrame({'Missing Ratio' :all_data_na})\n",
    "missing_data.head()"
   ]
  },
  {
   "cell_type": "code",
   "execution_count": 148,
   "metadata": {
    "collapsed": true
   },
   "outputs": [],
   "source": [
    "train = data[data.id.isin(train_id)]\n",
    "test = data[data.id.isin(test_id)]\n",
    "test = test.drop(['血糖'], axis=1)"
   ]
  },
  {
   "cell_type": "code",
   "execution_count": 149,
   "metadata": {},
   "outputs": [],
   "source": [
    "for feat in max_miss_feat:\n",
    "    train_cols.remove(feat)\n",
    "    test_cols.remove(feat)"
   ]
  },
  {
   "cell_type": "code",
   "execution_count": 150,
   "metadata": {},
   "outputs": [
    {
     "name": "stderr",
     "output_type": "stream",
     "text": [
      "/home/betten/anaconda3/lib/python3.6/site-packages/ipykernel_launcher.py:1: DeprecationWarning: \n",
      ".ix is deprecated. Please use\n",
      ".loc for label based indexing or\n",
      ".iloc for positional indexing\n",
      "\n",
      "See the documentation here:\n",
      "http://pandas.pydata.org/pandas-docs/stable/indexing.html#ix-indexer-is-deprecated\n",
      "  \"\"\"Entry point for launching an IPython kernel.\n",
      "/home/betten/anaconda3/lib/python3.6/site-packages/ipykernel_launcher.py:2: DeprecationWarning: \n",
      ".ix is deprecated. Please use\n",
      ".loc for label based indexing or\n",
      ".iloc for positional indexing\n",
      "\n",
      "See the documentation here:\n",
      "http://pandas.pydata.org/pandas-docs/stable/indexing.html#ix-indexer-is-deprecated\n",
      "  \n"
     ]
    }
   ],
   "source": [
    "train = train.ix[:,train_cols]\n",
    "test = test.ix[:,test_cols]"
   ]
  },
  {
   "cell_type": "code",
   "execution_count": 154,
   "metadata": {},
   "outputs": [
    {
     "name": "stderr",
     "output_type": "stream",
     "text": [
      "/home/betten/anaconda3/lib/python3.6/site-packages/ipykernel_launcher.py:1: DeprecationWarning: \n",
      ".ix is deprecated. Please use\n",
      ".loc for label based indexing or\n",
      ".iloc for positional indexing\n",
      "\n",
      "See the documentation here:\n",
      "http://pandas.pydata.org/pandas-docs/stable/indexing.html#ix-indexer-is-deprecated\n",
      "  \"\"\"Entry point for launching an IPython kernel.\n"
     ]
    },
    {
     "data": {
      "text/html": [
       "<div>\n",
       "<style>\n",
       "    .dataframe thead tr:only-child th {\n",
       "        text-align: right;\n",
       "    }\n",
       "\n",
       "    .dataframe thead th {\n",
       "        text-align: left;\n",
       "    }\n",
       "\n",
       "    .dataframe tbody tr th {\n",
       "        vertical-align: top;\n",
       "    }\n",
       "</style>\n",
       "<table border=\"1\" class=\"dataframe\">\n",
       "  <thead>\n",
       "    <tr style=\"text-align: right;\">\n",
       "      <th></th>\n",
       "      <th>id</th>\n",
       "      <th>性别</th>\n",
       "      <th>年龄</th>\n",
       "      <th>体检日期</th>\n",
       "      <th>*天门冬氨酸氨基转换酶</th>\n",
       "      <th>*丙氨酸氨基转换酶</th>\n",
       "      <th>*碱性磷酸酶</th>\n",
       "      <th>*r-谷氨酰基转换酶</th>\n",
       "      <th>*总蛋白</th>\n",
       "      <th>白蛋白</th>\n",
       "      <th>...</th>\n",
       "      <th>血小板计数</th>\n",
       "      <th>血小板平均体积</th>\n",
       "      <th>血小板体积分布宽度</th>\n",
       "      <th>血小板比积</th>\n",
       "      <th>中性粒细胞%</th>\n",
       "      <th>淋巴细胞%</th>\n",
       "      <th>单核细胞%</th>\n",
       "      <th>嗜酸细胞%</th>\n",
       "      <th>嗜碱细胞%</th>\n",
       "      <th>血糖</th>\n",
       "    </tr>\n",
       "  </thead>\n",
       "  <tbody>\n",
       "    <tr>\n",
       "      <th>0</th>\n",
       "      <td>1</td>\n",
       "      <td>1.0</td>\n",
       "      <td>41</td>\n",
       "      <td>62</td>\n",
       "      <td>24.96</td>\n",
       "      <td>23.10</td>\n",
       "      <td>99.59</td>\n",
       "      <td>20.23</td>\n",
       "      <td>76.88</td>\n",
       "      <td>49.60</td>\n",
       "      <td>...</td>\n",
       "      <td>166.0</td>\n",
       "      <td>9.9</td>\n",
       "      <td>17.4</td>\n",
       "      <td>0.164</td>\n",
       "      <td>54.1</td>\n",
       "      <td>34.2</td>\n",
       "      <td>6.5</td>\n",
       "      <td>4.7</td>\n",
       "      <td>0.6</td>\n",
       "      <td>6.06</td>\n",
       "    </tr>\n",
       "    <tr>\n",
       "      <th>1</th>\n",
       "      <td>2</td>\n",
       "      <td>1.0</td>\n",
       "      <td>41</td>\n",
       "      <td>10</td>\n",
       "      <td>24.57</td>\n",
       "      <td>36.25</td>\n",
       "      <td>67.21</td>\n",
       "      <td>79.00</td>\n",
       "      <td>79.43</td>\n",
       "      <td>47.76</td>\n",
       "      <td>...</td>\n",
       "      <td>277.0</td>\n",
       "      <td>9.2</td>\n",
       "      <td>10.3</td>\n",
       "      <td>0.260</td>\n",
       "      <td>52.0</td>\n",
       "      <td>36.7</td>\n",
       "      <td>5.8</td>\n",
       "      <td>4.7</td>\n",
       "      <td>0.8</td>\n",
       "      <td>5.39</td>\n",
       "    </tr>\n",
       "    <tr>\n",
       "      <th>2</th>\n",
       "      <td>3</td>\n",
       "      <td>1.0</td>\n",
       "      <td>46</td>\n",
       "      <td>17</td>\n",
       "      <td>20.82</td>\n",
       "      <td>15.23</td>\n",
       "      <td>63.69</td>\n",
       "      <td>38.17</td>\n",
       "      <td>86.23</td>\n",
       "      <td>48.00</td>\n",
       "      <td>...</td>\n",
       "      <td>241.0</td>\n",
       "      <td>8.3</td>\n",
       "      <td>16.6</td>\n",
       "      <td>0.199</td>\n",
       "      <td>48.1</td>\n",
       "      <td>40.3</td>\n",
       "      <td>7.7</td>\n",
       "      <td>3.2</td>\n",
       "      <td>0.8</td>\n",
       "      <td>5.59</td>\n",
       "    </tr>\n",
       "    <tr>\n",
       "      <th>3</th>\n",
       "      <td>4</td>\n",
       "      <td>0.0</td>\n",
       "      <td>22</td>\n",
       "      <td>16</td>\n",
       "      <td>14.99</td>\n",
       "      <td>10.59</td>\n",
       "      <td>74.08</td>\n",
       "      <td>20.22</td>\n",
       "      <td>70.98</td>\n",
       "      <td>44.02</td>\n",
       "      <td>...</td>\n",
       "      <td>252.0</td>\n",
       "      <td>10.3</td>\n",
       "      <td>10.8</td>\n",
       "      <td>0.260</td>\n",
       "      <td>41.7</td>\n",
       "      <td>46.5</td>\n",
       "      <td>6.7</td>\n",
       "      <td>4.6</td>\n",
       "      <td>0.5</td>\n",
       "      <td>4.30</td>\n",
       "    </tr>\n",
       "    <tr>\n",
       "      <th>4</th>\n",
       "      <td>5</td>\n",
       "      <td>0.0</td>\n",
       "      <td>48</td>\n",
       "      <td>17</td>\n",
       "      <td>20.07</td>\n",
       "      <td>14.78</td>\n",
       "      <td>75.79</td>\n",
       "      <td>22.72</td>\n",
       "      <td>78.05</td>\n",
       "      <td>41.83</td>\n",
       "      <td>...</td>\n",
       "      <td>316.0</td>\n",
       "      <td>11.1</td>\n",
       "      <td>14.0</td>\n",
       "      <td>0.350</td>\n",
       "      <td>56.6</td>\n",
       "      <td>33.1</td>\n",
       "      <td>9.1</td>\n",
       "      <td>0.6</td>\n",
       "      <td>0.6</td>\n",
       "      <td>5.42</td>\n",
       "    </tr>\n",
       "  </tbody>\n",
       "</table>\n",
       "<p>5 rows × 37 columns</p>\n",
       "</div>"
      ],
      "text/plain": [
       "   id   性别  年龄  体检日期  *天门冬氨酸氨基转换酶  *丙氨酸氨基转换酶  *碱性磷酸酶  *r-谷氨酰基转换酶   *总蛋白  \\\n",
       "0   1  1.0  41    62        24.96      23.10   99.59       20.23  76.88   \n",
       "1   2  1.0  41    10        24.57      36.25   67.21       79.00  79.43   \n",
       "2   3  1.0  46    17        20.82      15.23   63.69       38.17  86.23   \n",
       "3   4  0.0  22    16        14.99      10.59   74.08       20.22  70.98   \n",
       "4   5  0.0  48    17        20.07      14.78   75.79       22.72  78.05   \n",
       "\n",
       "     白蛋白  ...   血小板计数  血小板平均体积  血小板体积分布宽度  血小板比积  中性粒细胞%  淋巴细胞%  单核细胞%  嗜酸细胞%  \\\n",
       "0  49.60  ...   166.0      9.9       17.4  0.164    54.1   34.2    6.5    4.7   \n",
       "1  47.76  ...   277.0      9.2       10.3  0.260    52.0   36.7    5.8    4.7   \n",
       "2  48.00  ...   241.0      8.3       16.6  0.199    48.1   40.3    7.7    3.2   \n",
       "3  44.02  ...   252.0     10.3       10.8  0.260    41.7   46.5    6.7    4.6   \n",
       "4  41.83  ...   316.0     11.1       14.0  0.350    56.6   33.1    9.1    0.6   \n",
       "\n",
       "   嗜碱细胞%    血糖  \n",
       "0    0.6  6.06  \n",
       "1    0.8  5.39  \n",
       "2    0.8  5.59  \n",
       "3    0.5  4.30  \n",
       "4    0.6  5.42  \n",
       "\n",
       "[5 rows x 37 columns]"
      ]
     },
     "execution_count": 154,
     "metadata": {},
     "output_type": "execute_result"
    }
   ],
   "source": [
    "data = data.ix[:,train_cols]\n",
    "data.head()"
   ]
  },
  {
   "cell_type": "code",
   "execution_count": 165,
   "metadata": {},
   "outputs": [
    {
     "data": {
      "text/plain": [
       "Index(['id', '性别', '年龄', '体检日期', '*天门冬氨酸氨基转换酶', '*丙氨酸氨基转换酶', '*碱性磷酸酶',\n",
       "       '*r-谷氨酰基转换酶', '*总蛋白', '白蛋白', '*球蛋白', '白球比例', '甘油三酯', '总胆固醇',\n",
       "       '高密度脂蛋白胆固醇', '低密度脂蛋白胆固醇', '尿素', '肌酐', '尿酸', '白细胞计数', '红细胞计数', '血红蛋白',\n",
       "       '红细胞压积', '红细胞平均体积', '红细胞平均血红蛋白量', '红细胞平均血红蛋白浓度', '红细胞体积分布宽度', '血小板计数',\n",
       "       '血小板平均体积', '血小板体积分布宽度', '血小板比积', '中性粒细胞%', '淋巴细胞%', '单核细胞%', '嗜酸细胞%',\n",
       "       '嗜碱细胞%', '血糖'],\n",
       "      dtype='object')"
      ]
     },
     "execution_count": 165,
     "metadata": {},
     "output_type": "execute_result"
    }
   ],
   "source": [
    "data.columns"
   ]
  },
  {
   "cell_type": "code",
   "execution_count": 270,
   "metadata": {},
   "outputs": [
    {
     "data": {
      "image/png": "[encoded data removed]",
      "text/plain": [
       "<matplotlib.figure.Figure at 0x7f4ad959c278>"
      ]
     },
     "metadata": {
      "image/png": {
       "height": 265,
       "width": 390
      }
     },
     "output_type": "display_data"
    }
   ],
   "source": [
    "#scatter plot\n",
    "temp = pd.concat([data['id'], data['血糖']], axis=1)\n",
    "temp.plot.scatter(x='id', y='血糖', ylim=(0,50));"
   ]
  },
  {
   "cell_type": "code",
   "execution_count": 263,
   "metadata": {},
   "outputs": [
    {
     "name": "stderr",
     "output_type": "stream",
     "text": [
      "/home/betten/anaconda3/lib/python3.6/site-packages/ipykernel_launcher.py:1: SettingWithCopyWarning: \n",
      "A value is trying to be set on a copy of a slice from a DataFrame\n",
      "\n",
      "See the caveats in the documentation: http://pandas.pydata.org/pandas-docs/stable/indexing.html#indexing-view-versus-copy\n",
      "  \"\"\"Entry point for launching an IPython kernel.\n"
     ]
    }
   ],
   "source": [
    "data['嗜酸细胞%'][data['嗜酸细胞%']>20] = data['嗜酸细胞%'].mean()"
   ]
  },
  {
   "cell_type": "code",
   "execution_count": 272,
   "metadata": {},
   "outputs": [
    {
     "name": "stderr",
     "output_type": "stream",
     "text": [
      "/home/betten/anaconda3/lib/python3.6/site-packages/ipykernel_launcher.py:7: DeprecationWarning: \n",
      ".ix is deprecated. Please use\n",
      ".loc for label based indexing or\n",
      ".iloc for positional indexing\n",
      "\n",
      "See the documentation here:\n",
      "http://pandas.pydata.org/pandas-docs/stable/indexing.html#ix-indexer-is-deprecated\n",
      "  import sys\n",
      "/home/betten/anaconda3/lib/python3.6/site-packages/ipykernel_launcher.py:8: DeprecationWarning: \n",
      ".ix is deprecated. Please use\n",
      ".loc for label based indexing or\n",
      ".iloc for positional indexing\n",
      "\n",
      "See the documentation here:\n",
      "http://pandas.pydata.org/pandas-docs/stable/indexing.html#ix-indexer-is-deprecated\n",
      "  \n"
     ]
    }
   ],
   "source": [
    "train = data[data.id.isin(train_id)]\n",
    "test = data[data.id.isin(test_id)]\n",
    "test = test.drop(['血糖'], axis=1)\n",
    "\n",
    "    \n",
    "#数据集特征重新排列\n",
    "train = train.ix[:,train_cols]\n",
    "test = test.ix[:,test_cols]"
   ]
  },
  {
   "cell_type": "code",
   "execution_count": 277,
   "metadata": {},
   "outputs": [
    {
     "data": {
      "text/html": [
       "<div>\n",
       "<style>\n",
       "    .dataframe thead tr:only-child th {\n",
       "        text-align: right;\n",
       "    }\n",
       "\n",
       "    .dataframe thead th {\n",
       "        text-align: left;\n",
       "    }\n",
       "\n",
       "    .dataframe tbody tr th {\n",
       "        vertical-align: top;\n",
       "    }\n",
       "</style>\n",
       "<table border=\"1\" class=\"dataframe\">\n",
       "  <thead>\n",
       "    <tr style=\"text-align: right;\">\n",
       "      <th></th>\n",
       "      <th>id</th>\n",
       "      <th>性别</th>\n",
       "      <th>年龄</th>\n",
       "      <th>体检日期</th>\n",
       "      <th>*天门冬氨酸氨基转换酶</th>\n",
       "      <th>*丙氨酸氨基转换酶</th>\n",
       "      <th>*碱性磷酸酶</th>\n",
       "      <th>*r-谷氨酰基转换酶</th>\n",
       "      <th>*总蛋白</th>\n",
       "      <th>白蛋白</th>\n",
       "      <th>...</th>\n",
       "      <th>血小板计数</th>\n",
       "      <th>血小板平均体积</th>\n",
       "      <th>血小板体积分布宽度</th>\n",
       "      <th>血小板比积</th>\n",
       "      <th>中性粒细胞%</th>\n",
       "      <th>淋巴细胞%</th>\n",
       "      <th>单核细胞%</th>\n",
       "      <th>嗜酸细胞%</th>\n",
       "      <th>嗜碱细胞%</th>\n",
       "      <th>血糖</th>\n",
       "    </tr>\n",
       "  </thead>\n",
       "  <tbody>\n",
       "    <tr>\n",
       "      <th>0</th>\n",
       "      <td>1</td>\n",
       "      <td>1.0</td>\n",
       "      <td>41</td>\n",
       "      <td>62</td>\n",
       "      <td>24.96</td>\n",
       "      <td>23.10</td>\n",
       "      <td>99.59</td>\n",
       "      <td>20.23</td>\n",
       "      <td>76.88</td>\n",
       "      <td>49.60</td>\n",
       "      <td>...</td>\n",
       "      <td>166.0</td>\n",
       "      <td>9.9</td>\n",
       "      <td>17.4</td>\n",
       "      <td>0.164</td>\n",
       "      <td>54.1</td>\n",
       "      <td>34.2</td>\n",
       "      <td>6.5</td>\n",
       "      <td>4.7</td>\n",
       "      <td>0.6</td>\n",
       "      <td>6.06</td>\n",
       "    </tr>\n",
       "    <tr>\n",
       "      <th>1</th>\n",
       "      <td>2</td>\n",
       "      <td>1.0</td>\n",
       "      <td>41</td>\n",
       "      <td>10</td>\n",
       "      <td>24.57</td>\n",
       "      <td>36.25</td>\n",
       "      <td>67.21</td>\n",
       "      <td>79.00</td>\n",
       "      <td>79.43</td>\n",
       "      <td>47.76</td>\n",
       "      <td>...</td>\n",
       "      <td>277.0</td>\n",
       "      <td>9.2</td>\n",
       "      <td>10.3</td>\n",
       "      <td>0.260</td>\n",
       "      <td>52.0</td>\n",
       "      <td>36.7</td>\n",
       "      <td>5.8</td>\n",
       "      <td>4.7</td>\n",
       "      <td>0.8</td>\n",
       "      <td>5.39</td>\n",
       "    </tr>\n",
       "    <tr>\n",
       "      <th>2</th>\n",
       "      <td>3</td>\n",
       "      <td>1.0</td>\n",
       "      <td>46</td>\n",
       "      <td>17</td>\n",
       "      <td>20.82</td>\n",
       "      <td>15.23</td>\n",
       "      <td>63.69</td>\n",
       "      <td>38.17</td>\n",
       "      <td>86.23</td>\n",
       "      <td>48.00</td>\n",
       "      <td>...</td>\n",
       "      <td>241.0</td>\n",
       "      <td>8.3</td>\n",
       "      <td>16.6</td>\n",
       "      <td>0.199</td>\n",
       "      <td>48.1</td>\n",
       "      <td>40.3</td>\n",
       "      <td>7.7</td>\n",
       "      <td>3.2</td>\n",
       "      <td>0.8</td>\n",
       "      <td>5.59</td>\n",
       "    </tr>\n",
       "    <tr>\n",
       "      <th>3</th>\n",
       "      <td>4</td>\n",
       "      <td>0.0</td>\n",
       "      <td>22</td>\n",
       "      <td>16</td>\n",
       "      <td>14.99</td>\n",
       "      <td>10.59</td>\n",
       "      <td>74.08</td>\n",
       "      <td>20.22</td>\n",
       "      <td>70.98</td>\n",
       "      <td>44.02</td>\n",
       "      <td>...</td>\n",
       "      <td>252.0</td>\n",
       "      <td>10.3</td>\n",
       "      <td>10.8</td>\n",
       "      <td>0.260</td>\n",
       "      <td>41.7</td>\n",
       "      <td>46.5</td>\n",
       "      <td>6.7</td>\n",
       "      <td>4.6</td>\n",
       "      <td>0.5</td>\n",
       "      <td>4.30</td>\n",
       "    </tr>\n",
       "    <tr>\n",
       "      <th>4</th>\n",
       "      <td>5</td>\n",
       "      <td>0.0</td>\n",
       "      <td>48</td>\n",
       "      <td>17</td>\n",
       "      <td>20.07</td>\n",
       "      <td>14.78</td>\n",
       "      <td>75.79</td>\n",
       "      <td>22.72</td>\n",
       "      <td>78.05</td>\n",
       "      <td>41.83</td>\n",
       "      <td>...</td>\n",
       "      <td>316.0</td>\n",
       "      <td>11.1</td>\n",
       "      <td>14.0</td>\n",
       "      <td>0.350</td>\n",
       "      <td>56.6</td>\n",
       "      <td>33.1</td>\n",
       "      <td>9.1</td>\n",
       "      <td>0.6</td>\n",
       "      <td>0.6</td>\n",
       "      <td>5.42</td>\n",
       "    </tr>\n",
       "  </tbody>\n",
       "</table>\n",
       "<p>5 rows × 37 columns</p>\n",
       "</div>"
      ],
      "text/plain": [
       "   id   性别  年龄  体检日期  *天门冬氨酸氨基转换酶  *丙氨酸氨基转换酶  *碱性磷酸酶  *r-谷氨酰基转换酶   *总蛋白  \\\n",
       "0   1  1.0  41    62        24.96      23.10   99.59       20.23  76.88   \n",
       "1   2  1.0  41    10        24.57      36.25   67.21       79.00  79.43   \n",
       "2   3  1.0  46    17        20.82      15.23   63.69       38.17  86.23   \n",
       "3   4  0.0  22    16        14.99      10.59   74.08       20.22  70.98   \n",
       "4   5  0.0  48    17        20.07      14.78   75.79       22.72  78.05   \n",
       "\n",
       "     白蛋白  ...   血小板计数  血小板平均体积  血小板体积分布宽度  血小板比积  中性粒细胞%  淋巴细胞%  单核细胞%  嗜酸细胞%  \\\n",
       "0  49.60  ...   166.0      9.9       17.4  0.164    54.1   34.2    6.5    4.7   \n",
       "1  47.76  ...   277.0      9.2       10.3  0.260    52.0   36.7    5.8    4.7   \n",
       "2  48.00  ...   241.0      8.3       16.6  0.199    48.1   40.3    7.7    3.2   \n",
       "3  44.02  ...   252.0     10.3       10.8  0.260    41.7   46.5    6.7    4.6   \n",
       "4  41.83  ...   316.0     11.1       14.0  0.350    56.6   33.1    9.1    0.6   \n",
       "\n",
       "   嗜碱细胞%    血糖  \n",
       "0    0.6  6.06  \n",
       "1    0.8  5.39  \n",
       "2    0.8  5.59  \n",
       "3    0.5  4.30  \n",
       "4    0.6  5.42  \n",
       "\n",
       "[5 rows x 37 columns]"
      ]
     },
     "execution_count": 277,
     "metadata": {},
     "output_type": "execute_result"
    }
   ],
   "source": [
    "train.head()"
   ]
  },
  {
   "cell_type": "code",
   "execution_count": 278,
   "metadata": {},
   "outputs": [
    {
     "data": {
      "text/html": [
       "<div>\n",
       "<style>\n",
       "    .dataframe thead tr:only-child th {\n",
       "        text-align: right;\n",
       "    }\n",
       "\n",
       "    .dataframe thead th {\n",
       "        text-align: left;\n",
       "    }\n",
       "\n",
       "    .dataframe tbody tr th {\n",
       "        vertical-align: top;\n",
       "    }\n",
       "</style>\n",
       "<table border=\"1\" class=\"dataframe\">\n",
       "  <thead>\n",
       "    <tr style=\"text-align: right;\">\n",
       "      <th></th>\n",
       "      <th>id</th>\n",
       "      <th>性别</th>\n",
       "      <th>年龄</th>\n",
       "      <th>体检日期</th>\n",
       "      <th>*天门冬氨酸氨基转换酶</th>\n",
       "      <th>*丙氨酸氨基转换酶</th>\n",
       "      <th>*碱性磷酸酶</th>\n",
       "      <th>*r-谷氨酰基转换酶</th>\n",
       "      <th>*总蛋白</th>\n",
       "      <th>白蛋白</th>\n",
       "      <th>...</th>\n",
       "      <th>红细胞体积分布宽度</th>\n",
       "      <th>血小板计数</th>\n",
       "      <th>血小板平均体积</th>\n",
       "      <th>血小板体积分布宽度</th>\n",
       "      <th>血小板比积</th>\n",
       "      <th>中性粒细胞%</th>\n",
       "      <th>淋巴细胞%</th>\n",
       "      <th>单核细胞%</th>\n",
       "      <th>嗜酸细胞%</th>\n",
       "      <th>嗜碱细胞%</th>\n",
       "    </tr>\n",
       "  </thead>\n",
       "  <tbody>\n",
       "    <tr>\n",
       "      <th>0</th>\n",
       "      <td>5733</td>\n",
       "      <td>1.0</td>\n",
       "      <td>54</td>\n",
       "      <td>1</td>\n",
       "      <td>23.8500</td>\n",
       "      <td>26.6900</td>\n",
       "      <td>116.0800</td>\n",
       "      <td>34.3600</td>\n",
       "      <td>82.75</td>\n",
       "      <td>46.030</td>\n",
       "      <td>...</td>\n",
       "      <td>12.3</td>\n",
       "      <td>241.0</td>\n",
       "      <td>10.8</td>\n",
       "      <td>12.8</td>\n",
       "      <td>0.26</td>\n",
       "      <td>58.4</td>\n",
       "      <td>33.2</td>\n",
       "      <td>7.5</td>\n",
       "      <td>0.6</td>\n",
       "      <td>0.3</td>\n",
       "    </tr>\n",
       "    <tr>\n",
       "      <th>1</th>\n",
       "      <td>5734</td>\n",
       "      <td>1.0</td>\n",
       "      <td>50</td>\n",
       "      <td>1</td>\n",
       "      <td>29.7500</td>\n",
       "      <td>34.9800</td>\n",
       "      <td>90.0700</td>\n",
       "      <td>111.4300</td>\n",
       "      <td>71.90</td>\n",
       "      <td>44.090</td>\n",
       "      <td>...</td>\n",
       "      <td>12.0</td>\n",
       "      <td>242.0</td>\n",
       "      <td>11.5</td>\n",
       "      <td>14.6</td>\n",
       "      <td>0.28</td>\n",
       "      <td>59.3</td>\n",
       "      <td>29.3</td>\n",
       "      <td>7.7</td>\n",
       "      <td>3.2</td>\n",
       "      <td>0.5</td>\n",
       "    </tr>\n",
       "    <tr>\n",
       "      <th>2</th>\n",
       "      <td>5735</td>\n",
       "      <td>1.0</td>\n",
       "      <td>27</td>\n",
       "      <td>1</td>\n",
       "      <td>21.7925</td>\n",
       "      <td>18.6825</td>\n",
       "      <td>82.4017</td>\n",
       "      <td>22.1075</td>\n",
       "      <td>76.20</td>\n",
       "      <td>45.395</td>\n",
       "      <td>...</td>\n",
       "      <td>12.1</td>\n",
       "      <td>398.0</td>\n",
       "      <td>8.9</td>\n",
       "      <td>9.9</td>\n",
       "      <td>0.35</td>\n",
       "      <td>50.2</td>\n",
       "      <td>40.1</td>\n",
       "      <td>7.9</td>\n",
       "      <td>1.2</td>\n",
       "      <td>0.6</td>\n",
       "    </tr>\n",
       "    <tr>\n",
       "      <th>3</th>\n",
       "      <td>5736</td>\n",
       "      <td>0.0</td>\n",
       "      <td>53</td>\n",
       "      <td>1</td>\n",
       "      <td>17.9800</td>\n",
       "      <td>16.6300</td>\n",
       "      <td>95.9500</td>\n",
       "      <td>23.4100</td>\n",
       "      <td>78.16</td>\n",
       "      <td>45.440</td>\n",
       "      <td>...</td>\n",
       "      <td>12.6</td>\n",
       "      <td>247.0</td>\n",
       "      <td>11.6</td>\n",
       "      <td>13.9</td>\n",
       "      <td>0.29</td>\n",
       "      <td>53.7</td>\n",
       "      <td>38.0</td>\n",
       "      <td>7.2</td>\n",
       "      <td>0.7</td>\n",
       "      <td>0.4</td>\n",
       "    </tr>\n",
       "    <tr>\n",
       "      <th>4</th>\n",
       "      <td>5739</td>\n",
       "      <td>0.0</td>\n",
       "      <td>43</td>\n",
       "      <td>1</td>\n",
       "      <td>19.1200</td>\n",
       "      <td>19.8000</td>\n",
       "      <td>76.9700</td>\n",
       "      <td>15.7000</td>\n",
       "      <td>80.76</td>\n",
       "      <td>46.900</td>\n",
       "      <td>...</td>\n",
       "      <td>12.2</td>\n",
       "      <td>335.0</td>\n",
       "      <td>10.4</td>\n",
       "      <td>11.9</td>\n",
       "      <td>0.35</td>\n",
       "      <td>52.0</td>\n",
       "      <td>39.4</td>\n",
       "      <td>8.0</td>\n",
       "      <td>0.3</td>\n",
       "      <td>0.3</td>\n",
       "    </tr>\n",
       "  </tbody>\n",
       "</table>\n",
       "<p>5 rows × 36 columns</p>\n",
       "</div>"
      ],
      "text/plain": [
       "     id   性别  年龄  体检日期  *天门冬氨酸氨基转换酶  *丙氨酸氨基转换酶    *碱性磷酸酶  *r-谷氨酰基转换酶   *总蛋白  \\\n",
       "0  5733  1.0  54     1      23.8500    26.6900  116.0800     34.3600  82.75   \n",
       "1  5734  1.0  50     1      29.7500    34.9800   90.0700    111.4300  71.90   \n",
       "2  5735  1.0  27     1      21.7925    18.6825   82.4017     22.1075  76.20   \n",
       "3  5736  0.0  53     1      17.9800    16.6300   95.9500     23.4100  78.16   \n",
       "4  5739  0.0  43     1      19.1200    19.8000   76.9700     15.7000  80.76   \n",
       "\n",
       "      白蛋白  ...    红细胞体积分布宽度  血小板计数  血小板平均体积  血小板体积分布宽度  血小板比积  中性粒细胞%  淋巴细胞%  \\\n",
       "0  46.030  ...         12.3  241.0     10.8       12.8   0.26    58.4   33.2   \n",
       "1  44.090  ...         12.0  242.0     11.5       14.6   0.28    59.3   29.3   \n",
       "2  45.395  ...         12.1  398.0      8.9        9.9   0.35    50.2   40.1   \n",
       "3  45.440  ...         12.6  247.0     11.6       13.9   0.29    53.7   38.0   \n",
       "4  46.900  ...         12.2  335.0     10.4       11.9   0.35    52.0   39.4   \n",
       "\n",
       "   单核细胞%  嗜酸细胞%  嗜碱细胞%  \n",
       "0    7.5    0.6    0.3  \n",
       "1    7.7    3.2    0.5  \n",
       "2    7.9    1.2    0.6  \n",
       "3    7.2    0.7    0.4  \n",
       "4    8.0    0.3    0.3  \n",
       "\n",
       "[5 rows x 36 columns]"
      ]
     },
     "execution_count": 278,
     "metadata": {},
     "output_type": "execute_result"
    }
   ],
   "source": [
    "test.head()"
   ]
  },
  {
   "cell_type": "code",
   "execution_count": 280,
   "metadata": {},
   "outputs": [
    {
     "data": {
      "image/png": "[encoded data removed]",
      "text/plain": [
       "<matplotlib.figure.Figure at 0x7f4b21037b70>"
      ]
     },
     "metadata": {
      "image/png": {
       "height": 1038,
       "width": 772
      }
     },
     "output_type": "display_data"
    }
   ],
   "source": [
    "import xgboost as xgb\n",
    "y_train = train['血糖']\n",
    "X_train = train.drop(['血糖'], axis=1)\n",
    "xgb_params = {\n",
    "    'eta': 0.05,\n",
    "    'max_depth': 8,\n",
    "    'subsample': 0.7,\n",
    "    'colsample_bytree': 0.7,\n",
    "    'objective': 'reg:linear',\n",
    "    'silent': 1,\n",
    "    'seed' : 0\n",
    "}\n",
    "dtrain = xgb.DMatrix(X_train, y_train, feature_names=X_train.columns.values)\n",
    "model = xgb.train(dict(xgb_params, silent=0), dtrain, num_boost_round=50)\n",
    "\n",
    "# plot the important features #\n",
    "fig, ax = plt.subplots(figsize=(12,18))\n",
    "xgb.plot_importance(model, max_num_features=50, height=0.8, ax=ax)\n",
    "plt.show()"
   ]
  },
  {
   "cell_type": "code",
   "execution_count": 289,
   "metadata": {},
   "outputs": [],
   "source": [
    "cols = data.columns.tolist()\n",
    "cols.remove('id')\n",
    "cols.remove('血糖')\n",
    "cols.remove('性别')\n",
    "cols.remove('年龄')\n",
    "cols.remove('体检日期')"
   ]
  },
  {
   "cell_type": "code",
   "execution_count": 292,
   "metadata": {
    "collapsed": true
   },
   "outputs": [
    {
     "name": "stderr",
     "output_type": "stream",
     "text": [
      "/home/betten/anaconda3/lib/python3.6/site-packages/matplotlib/font_manager.py:1316: UserWarning: findfont: Font family ['sans-serif'] not found. Falling back to DejaVu Sans\n",
      "  (prop.get_family(), self.defaultFamily[fontext]))\n"
     ]
    },
    {
     "data": {
      "image/png": "[encoded data removed]",
      "text/plain": [
       "<matplotlib.figure.Figure at 0x7f4adb32cc18>"
      ]
     },
     "metadata": {
      "image/png": {
       "height": 578,
       "width": 661
      }
     },
     "output_type": "display_data"
    }
   ],
   "source": [
    "#correlation matrix\n",
    "corrmat = data[cols].corr()\n",
    "f, ax = plt.subplots(figsize=(12, 9))\n",
    "sns.heatmap(corrmat, vmax=.8, square=True);"
   ]
  },
  {
   "cell_type": "code",
   "execution_count": 293,
   "metadata": {
    "collapsed": true
   },
   "outputs": [],
   "source": [
    "from sklearn.preprocessing import PolynomialFeatures\n",
    "tran_data = PolynomialFeatures().fit_transform(data[cols])"
   ]
  },
  {
   "cell_type": "code",
   "execution_count": 295,
   "metadata": {},
   "outputs": [
    {
     "data": {
      "text/plain": [
       "(6642, 561)"
      ]
     },
     "execution_count": 295,
     "metadata": {},
     "output_type": "execute_result"
    }
   ],
   "source": [
    "tran_data.shape"
   ]
  },
  {
   "cell_type": "code",
   "execution_count": 297,
   "metadata": {},
   "outputs": [],
   "source": [
    "from numpy import log1p\n",
    "from sklearn.preprocessing import FunctionTransformer\n",
    "#自定义转换函数为对数函数的数据变换\n",
    "#第一个参数是单变元函数\n",
    "log_data = FunctionTransformer(log1p).fit_transform(data[cols])"
   ]
  },
  {
   "cell_type": "code",
   "execution_count": 298,
   "metadata": {},
   "outputs": [
    {
     "data": {
      "text/plain": [
       "(6642, 32)"
      ]
     },
     "execution_count": 298,
     "metadata": {},
     "output_type": "execute_result"
    }
   ],
   "source": [
    "log_data.shape"
   ]
  },
  {
   "cell_type": "code",
   "execution_count": 318,
   "metadata": {},
   "outputs": [],
   "source": [
    "tran = pd.DataFrame(log_data)\n",
    "new_data = pd.concat([data, tran], axis=1, join_axes=[data.index])"
   ]
  },
  {
   "cell_type": "code",
   "execution_count": 379,
   "metadata": {},
   "outputs": [
    {
     "name": "stdout",
     "output_type": "stream",
     "text": [
      "\n",
      "Skew in numerical features: \n",
      "\n"
     ]
    },
    {
     "data": {
      "text/html": [
       "<div>\n",
       "<style>\n",
       "    .dataframe thead tr:only-child th {\n",
       "        text-align: right;\n",
       "    }\n",
       "\n",
       "    .dataframe thead th {\n",
       "        text-align: left;\n",
       "    }\n",
       "\n",
       "    .dataframe tbody tr th {\n",
       "        vertical-align: top;\n",
       "    }\n",
       "</style>\n",
       "<table border=\"1\" class=\"dataframe\">\n",
       "  <thead>\n",
       "    <tr style=\"text-align: right;\">\n",
       "      <th></th>\n",
       "      <th>Skew</th>\n",
       "    </tr>\n",
       "  </thead>\n",
       "  <tbody>\n",
       "    <tr>\n",
       "      <th>血糖</th>\n",
       "      <td>6.062385</td>\n",
       "    </tr>\n",
       "    <tr>\n",
       "      <th>甘油三酯</th>\n",
       "      <td>5.960447</td>\n",
       "    </tr>\n",
       "    <tr>\n",
       "      <th>*r-谷氨酰基转换酶</th>\n",
       "      <td>4.717911</td>\n",
       "    </tr>\n",
       "    <tr>\n",
       "      <th>*天门冬氨酸氨基转换酶</th>\n",
       "      <td>4.208533</td>\n",
       "    </tr>\n",
       "    <tr>\n",
       "      <th>*丙氨酸氨基转换酶</th>\n",
       "      <td>3.493360</td>\n",
       "    </tr>\n",
       "  </tbody>\n",
       "</table>\n",
       "</div>"
      ],
      "text/plain": [
       "                 Skew\n",
       "血糖           6.062385\n",
       "甘油三酯         5.960447\n",
       "*r-谷氨酰基转换酶   4.717911\n",
       "*天门冬氨酸氨基转换酶  4.208533\n",
       "*丙氨酸氨基转换酶    3.493360"
      ]
     },
     "execution_count": 379,
     "metadata": {},
     "output_type": "execute_result"
    }
   ],
   "source": [
    "numeric_feats = data.dtypes[data.dtypes != \"object\"].index\n",
    "\n",
    "# Check the skew of all numerical features\n",
    "skewed_feats = data[numeric_feats].apply(lambda x: skew(x.dropna())).sort_values(ascending=False)\n",
    "print(\"\\nSkew in numerical features: \\n\")\n",
    "skewness = pd.DataFrame({'Skew' :skewed_feats})\n",
    "skewness.head()"
   ]
  },
  {
   "cell_type": "code",
   "execution_count": 372,
   "metadata": {},
   "outputs": [
    {
     "name": "stdout",
     "output_type": "stream",
     "text": [
      "There are 17 skewed numerical features to Box Cox transform\n"
     ]
    }
   ],
   "source": [
    "skewness = skewness[abs(skewness) > 0.75]\n",
    "skewness = skewness.dropna(axis=0)\n",
    "print(\"There are {} skewed numerical features to Box Cox transform\".format(skewness.shape[0]))"
   ]
  },
  {
   "cell_type": "code",
   "execution_count": 373,
   "metadata": {},
   "outputs": [],
   "source": [
    "from scipy.special import boxcox1p\n",
    "skewed_features = skewness.index\n",
    "lam = 0.15\n",
    "for feat in skewed_features:\n",
    "    #all_data[feat] += 1\n",
    "    new_data['skew'+feat] = boxcox1p(data[feat], lam)\n",
    "new_data = new_data.drop(['skew血糖'], axis=1)"
   ]
  },
  {
   "cell_type": "code",
   "execution_count": 375,
   "metadata": {},
   "outputs": [
    {
     "data": {
      "text/html": [
       "<div>\n",
       "<style>\n",
       "    .dataframe thead tr:only-child th {\n",
       "        text-align: right;\n",
       "    }\n",
       "\n",
       "    .dataframe thead th {\n",
       "        text-align: left;\n",
       "    }\n",
       "\n",
       "    .dataframe tbody tr th {\n",
       "        vertical-align: top;\n",
       "    }\n",
       "</style>\n",
       "<table border=\"1\" class=\"dataframe\">\n",
       "  <thead>\n",
       "    <tr style=\"text-align: right;\">\n",
       "      <th></th>\n",
       "      <th>id</th>\n",
       "      <th>性别</th>\n",
       "      <th>年龄</th>\n",
       "      <th>体检日期</th>\n",
       "      <th>*天门冬氨酸氨基转换酶</th>\n",
       "      <th>*丙氨酸氨基转换酶</th>\n",
       "      <th>*碱性磷酸酶</th>\n",
       "      <th>*r-谷氨酰基转换酶</th>\n",
       "      <th>*总蛋白</th>\n",
       "      <th>白蛋白</th>\n",
       "      <th>...</th>\n",
       "      <th>skew嗜碱细胞%</th>\n",
       "      <th>skew*碱性磷酸酶</th>\n",
       "      <th>skew尿素</th>\n",
       "      <th>skew体检日期</th>\n",
       "      <th>skew高密度脂蛋白胆固醇</th>\n",
       "      <th>skew白细胞计数</th>\n",
       "      <th>skew肌酐</th>\n",
       "      <th>skew单核细胞%</th>\n",
       "      <th>skew红细胞平均体积</th>\n",
       "      <th>skew红细胞平均血红蛋白量</th>\n",
       "    </tr>\n",
       "  </thead>\n",
       "  <tbody>\n",
       "    <tr>\n",
       "      <th>0</th>\n",
       "      <td>1</td>\n",
       "      <td>1.0</td>\n",
       "      <td>41</td>\n",
       "      <td>62</td>\n",
       "      <td>24.96</td>\n",
       "      <td>23.10</td>\n",
       "      <td>99.59</td>\n",
       "      <td>20.23</td>\n",
       "      <td>76.88</td>\n",
       "      <td>49.60</td>\n",
       "      <td>...</td>\n",
       "      <td>0.486968</td>\n",
       "      <td>6.646825</td>\n",
       "      <td>2.234609</td>\n",
       "      <td>5.744420</td>\n",
       "      <td>0.921223</td>\n",
       "      <td>2.128056</td>\n",
       "      <td>6.154614</td>\n",
       "      <td>2.352532</td>\n",
       "      <td>6.488947</td>\n",
       "      <td>4.592030</td>\n",
       "    </tr>\n",
       "    <tr>\n",
       "      <th>1</th>\n",
       "      <td>2</td>\n",
       "      <td>1.0</td>\n",
       "      <td>41</td>\n",
       "      <td>10</td>\n",
       "      <td>24.57</td>\n",
       "      <td>36.25</td>\n",
       "      <td>67.21</td>\n",
       "      <td>79.00</td>\n",
       "      <td>79.43</td>\n",
       "      <td>47.76</td>\n",
       "      <td>...</td>\n",
       "      <td>0.614477</td>\n",
       "      <td>5.893227</td>\n",
       "      <td>2.111319</td>\n",
       "      <td>2.885846</td>\n",
       "      <td>0.691038</td>\n",
       "      <td>2.547608</td>\n",
       "      <td>6.385118</td>\n",
       "      <td>2.220945</td>\n",
       "      <td>6.393545</td>\n",
       "      <td>4.486611</td>\n",
       "    </tr>\n",
       "    <tr>\n",
       "      <th>2</th>\n",
       "      <td>3</td>\n",
       "      <td>1.0</td>\n",
       "      <td>46</td>\n",
       "      <td>17</td>\n",
       "      <td>20.82</td>\n",
       "      <td>15.23</td>\n",
       "      <td>63.69</td>\n",
       "      <td>38.17</td>\n",
       "      <td>86.23</td>\n",
       "      <td>48.00</td>\n",
       "      <td>...</td>\n",
       "      <td>0.614477</td>\n",
       "      <td>5.793800</td>\n",
       "      <td>2.004651</td>\n",
       "      <td>3.618223</td>\n",
       "      <td>1.045019</td>\n",
       "      <td>1.965840</td>\n",
       "      <td>6.177599</td>\n",
       "      <td>2.555578</td>\n",
       "      <td>6.488947</td>\n",
       "      <td>4.560990</td>\n",
       "    </tr>\n",
       "    <tr>\n",
       "      <th>3</th>\n",
       "      <td>4</td>\n",
       "      <td>0.0</td>\n",
       "      <td>22</td>\n",
       "      <td>16</td>\n",
       "      <td>14.99</td>\n",
       "      <td>10.59</td>\n",
       "      <td>74.08</td>\n",
       "      <td>20.22</td>\n",
       "      <td>70.98</td>\n",
       "      <td>44.02</td>\n",
       "      <td>...</td>\n",
       "      <td>0.418049</td>\n",
       "      <td>6.075327</td>\n",
       "      <td>1.877781</td>\n",
       "      <td>3.530419</td>\n",
       "      <td>0.949732</td>\n",
       "      <td>2.800340</td>\n",
       "      <td>5.728405</td>\n",
       "      <td>2.388206</td>\n",
       "      <td>6.531046</td>\n",
       "      <td>4.592030</td>\n",
       "    </tr>\n",
       "    <tr>\n",
       "      <th>4</th>\n",
       "      <td>5</td>\n",
       "      <td>0.0</td>\n",
       "      <td>48</td>\n",
       "      <td>17</td>\n",
       "      <td>20.07</td>\n",
       "      <td>14.78</td>\n",
       "      <td>75.79</td>\n",
       "      <td>22.72</td>\n",
       "      <td>78.05</td>\n",
       "      <td>41.83</td>\n",
       "      <td>...</td>\n",
       "      <td>0.486968</td>\n",
       "      <td>6.118443</td>\n",
       "      <td>1.981186</td>\n",
       "      <td>3.618223</td>\n",
       "      <td>0.872314</td>\n",
       "      <td>2.070830</td>\n",
       "      <td>6.177356</td>\n",
       "      <td>2.764316</td>\n",
       "      <td>5.934004</td>\n",
       "      <td>3.903378</td>\n",
       "    </tr>\n",
       "  </tbody>\n",
       "</table>\n",
       "<p>5 rows × 85 columns</p>\n",
       "</div>"
      ],
      "text/plain": [
       "   id   性别  年龄  体检日期  *天门冬氨酸氨基转换酶  *丙氨酸氨基转换酶  *碱性磷酸酶  *r-谷氨酰基转换酶   *总蛋白  \\\n",
       "0   1  1.0  41    62        24.96      23.10   99.59       20.23  76.88   \n",
       "1   2  1.0  41    10        24.57      36.25   67.21       79.00  79.43   \n",
       "2   3  1.0  46    17        20.82      15.23   63.69       38.17  86.23   \n",
       "3   4  0.0  22    16        14.99      10.59   74.08       20.22  70.98   \n",
       "4   5  0.0  48    17        20.07      14.78   75.79       22.72  78.05   \n",
       "\n",
       "     白蛋白       ...        skew嗜碱细胞%  skew*碱性磷酸酶    skew尿素  skew体检日期  \\\n",
       "0  49.60       ...         0.486968    6.646825  2.234609  5.744420   \n",
       "1  47.76       ...         0.614477    5.893227  2.111319  2.885846   \n",
       "2  48.00       ...         0.614477    5.793800  2.004651  3.618223   \n",
       "3  44.02       ...         0.418049    6.075327  1.877781  3.530419   \n",
       "4  41.83       ...         0.486968    6.118443  1.981186  3.618223   \n",
       "\n",
       "   skew高密度脂蛋白胆固醇  skew白细胞计数    skew肌酐  skew单核细胞%  skew红细胞平均体积  skew红细胞平均血红蛋白量  \n",
       "0       0.921223   2.128056  6.154614   2.352532     6.488947        4.592030  \n",
       "1       0.691038   2.547608  6.385118   2.220945     6.393545        4.486611  \n",
       "2       1.045019   1.965840  6.177599   2.555578     6.488947        4.560990  \n",
       "3       0.949732   2.800340  5.728405   2.388206     6.531046        4.592030  \n",
       "4       0.872314   2.070830  6.177356   2.764316     5.934004        3.903378  \n",
       "\n",
       "[5 rows x 85 columns]"
      ]
     },
     "execution_count": 375,
     "metadata": {},
     "output_type": "execute_result"
    }
   ],
   "source": [
    "new_data.head()"
   ]
  },
  {
   "cell_type": "code",
   "execution_count": 381,
   "metadata": {},
   "outputs": [
    {
     "data": {
      "text/html": [
       "<div>\n",
       "<style>\n",
       "    .dataframe thead tr:only-child th {\n",
       "        text-align: right;\n",
       "    }\n",
       "\n",
       "    .dataframe thead th {\n",
       "        text-align: left;\n",
       "    }\n",
       "\n",
       "    .dataframe tbody tr th {\n",
       "        vertical-align: top;\n",
       "    }\n",
       "</style>\n",
       "<table border=\"1\" class=\"dataframe\">\n",
       "  <thead>\n",
       "    <tr style=\"text-align: right;\">\n",
       "      <th></th>\n",
       "      <th>Missing Ratio</th>\n",
       "    </tr>\n",
       "  </thead>\n",
       "  <tbody>\n",
       "  </tbody>\n",
       "</table>\n",
       "</div>"
      ],
      "text/plain": [
       "Empty DataFrame\n",
       "Columns: [Missing Ratio]\n",
       "Index: []"
      ]
     },
     "execution_count": 381,
     "metadata": {},
     "output_type": "execute_result"
    }
   ],
   "source": [
    "new_data = new_data.drop(['skew体检日期'], axis=1)\n",
    "new_data_na = (new_data.isnull().sum() / len(new_data)) * 100\n",
    "new_data_na = new_data_na.drop(new_data_na[new_data_na == 0].index).sort_values(ascending=False)[:30]\n",
    "missing_data = pd.DataFrame({'Missing Ratio' :new_data_na})\n",
    "missing_data.head(20)"
   ]
  },
  {
   "cell_type": "code",
   "execution_count": 382,
   "metadata": {},
   "outputs": [
    {
     "data": {
      "text/html": [
       "<div>\n",
       "<style>\n",
       "    .dataframe thead tr:only-child th {\n",
       "        text-align: right;\n",
       "    }\n",
       "\n",
       "    .dataframe thead th {\n",
       "        text-align: left;\n",
       "    }\n",
       "\n",
       "    .dataframe tbody tr th {\n",
       "        vertical-align: top;\n",
       "    }\n",
       "</style>\n",
       "<table border=\"1\" class=\"dataframe\">\n",
       "  <thead>\n",
       "    <tr style=\"text-align: right;\">\n",
       "      <th></th>\n",
       "      <th>Missing Ratio</th>\n",
       "    </tr>\n",
       "  </thead>\n",
       "  <tbody>\n",
       "    <tr>\n",
       "      <th>性别</th>\n",
       "      <td>49.879554</td>\n",
       "    </tr>\n",
       "    <tr>\n",
       "      <th>skew嗜酸细胞%</th>\n",
       "      <td>0.195724</td>\n",
       "    </tr>\n",
       "    <tr>\n",
       "      <th>30</th>\n",
       "      <td>0.195724</td>\n",
       "    </tr>\n",
       "    <tr>\n",
       "      <th>嗜酸细胞%</th>\n",
       "      <td>0.195724</td>\n",
       "    </tr>\n",
       "    <tr>\n",
       "      <th>skew嗜碱细胞%</th>\n",
       "      <td>0.150557</td>\n",
       "    </tr>\n",
       "    <tr>\n",
       "      <th>31</th>\n",
       "      <td>0.150557</td>\n",
       "    </tr>\n",
       "    <tr>\n",
       "      <th>嗜碱细胞%</th>\n",
       "      <td>0.150557</td>\n",
       "    </tr>\n",
       "  </tbody>\n",
       "</table>\n",
       "</div>"
      ],
      "text/plain": [
       "           Missing Ratio\n",
       "性别             49.879554\n",
       "skew嗜酸细胞%       0.195724\n",
       "30              0.195724\n",
       "嗜酸细胞%           0.195724\n",
       "skew嗜碱细胞%       0.150557\n",
       "31              0.150557\n",
       "嗜碱细胞%           0.150557"
      ]
     },
     "execution_count": 382,
     "metadata": {},
     "output_type": "execute_result"
    }
   ],
   "source": [
    "new_data_na = ((new_data==0).sum() / len(new_data)) * 100\n",
    "new_data_na = new_data_na.drop(new_data_na[new_data_na == 0].index).sort_values(ascending=False)[:30]\n",
    "missing_data = pd.DataFrame({'Missing Ratio' :new_data_na})\n",
    "missing_data.head(20)"
   ]
  },
  {
   "cell_type": "code",
   "execution_count": 383,
   "metadata": {},
   "outputs": [
    {
     "data": {
      "text/plain": [
       "Index([             'id',              '性别',              '年龄',\n",
       "                  '体检日期',     '*天门冬氨酸氨基转换酶',       '*丙氨酸氨基转换酶',\n",
       "                '*碱性磷酸酶',      '*r-谷氨酰基转换酶',            '*总蛋白',\n",
       "                   '白蛋白',            '*球蛋白',            '白球比例',\n",
       "                  '甘油三酯',            '总胆固醇',       '高密度脂蛋白胆固醇',\n",
       "             '低密度脂蛋白胆固醇',              '尿素',              '肌酐',\n",
       "                    '尿酸',           '白细胞计数',           '红细胞计数',\n",
       "                  '血红蛋白',           '红细胞压积',         '红细胞平均体积',\n",
       "            '红细胞平均血红蛋白量',     '红细胞平均血红蛋白浓度',       '红细胞体积分布宽度',\n",
       "                 '血小板计数',         '血小板平均体积',       '血小板体积分布宽度',\n",
       "                 '血小板比积',          '中性粒细胞%',           '淋巴细胞%',\n",
       "                 '单核细胞%',           '嗜酸细胞%',           '嗜碱细胞%',\n",
       "                    '血糖',                 0,                 1,\n",
       "                       2,                 3,                 4,\n",
       "                       5,                 6,                 7,\n",
       "                       8,                 9,                10,\n",
       "                      11,                12,                13,\n",
       "                      14,                15,                16,\n",
       "                      17,                18,                19,\n",
       "                      20,                21,                22,\n",
       "                      23,                24,                25,\n",
       "                      26,                27,                28,\n",
       "                      29,                30,                31,\n",
       "              'skew甘油三酯',  'skew*r-谷氨酰基转换酶', 'skew*天门冬氨酸氨基转换酶',\n",
       "         'skew*丙氨酸氨基转换酶',   'skew红细胞体积分布宽度',       'skew嗜酸细胞%',\n",
       "             'skew嗜碱细胞%',      'skew*碱性磷酸酶',          'skew尿素',\n",
       "         'skew高密度脂蛋白胆固醇',       'skew白细胞计数',          'skew肌酐',\n",
       "             'skew单核细胞%',     'skew红细胞平均体积',  'skew红细胞平均血红蛋白量'],\n",
       "      dtype='object')"
      ]
     },
     "execution_count": 383,
     "metadata": {},
     "output_type": "execute_result"
    }
   ],
   "source": [
    "new_data.columns"
   ]
  },
  {
   "cell_type": "markdown",
   "metadata": {},
   "source": [
    "# 特征选择"
   ]
  },
  {
   "cell_type": "code",
   "execution_count": 384,
   "metadata": {
    "collapsed": true
   },
   "outputs": [],
   "source": [
    "train = new_data[new_data.id.isin(train_id)]"
   ]
  },
  {
   "cell_type": "code",
   "execution_count": 388,
   "metadata": {},
   "outputs": [],
   "source": [
    "from sklearn.linear_model import Ridge, RidgeCV, ElasticNet, LassoCV, LassoLarsCV\n",
    "from sklearn.model_selection import cross_val_score"
   ]
  },
  {
   "cell_type": "code",
   "execution_count": 397,
   "metadata": {},
   "outputs": [],
   "source": [
    "def mse_cv(model):\n",
    "    mse= -cross_val_score(model, train, y_train, scoring=\"neg_mean_squared_error\", cv = 5)\n",
    "    return(0.5*mse)"
   ]
  },
  {
   "cell_type": "code",
   "execution_count": 398,
   "metadata": {
    "collapsed": true
   },
   "outputs": [],
   "source": [
    "model_lasso = LassoCV(alphas = [1, 0.1, 0.001, 0.0005]).fit(train, y_train)"
   ]
  },
  {
   "cell_type": "code",
   "execution_count": 405,
   "metadata": {},
   "outputs": [
    {
     "data": {
      "text/plain": [
       "array([  3.14998709e-08,   5.42637832e-08,   5.29536166e-08,\n",
       "         8.72992675e-08,   5.46178041e-08])"
      ]
     },
     "execution_count": 405,
     "metadata": {},
     "output_type": "execute_result"
    }
   ],
   "source": [
    "mse_cv(model_lasso)"
   ]
  },
  {
   "cell_type": "code",
   "execution_count": 406,
   "metadata": {
    "collapsed": true
   },
   "outputs": [],
   "source": [
    "coef = pd.Series(model_lasso.coef_, index = train.columns)"
   ]
  },
  {
   "cell_type": "code",
   "execution_count": 407,
   "metadata": {},
   "outputs": [
    {
     "name": "stdout",
     "output_type": "stream",
     "text": [
      "Lasso picked 7 variables and eliminated the other 77 variables\n"
     ]
    }
   ],
   "source": [
    "print(\"Lasso picked \" + str(sum(coef != 0)) + \" variables and eliminated the other \" +  str(sum(coef == 0)) + \" variables\")"
   ]
  },
  {
   "cell_type": "code",
   "execution_count": 408,
   "metadata": {
    "collapsed": true
   },
   "outputs": [],
   "source": [
    "imp_coef = pd.concat([coef.sort_values().head(10),\n",
    "                     coef.sort_values().tail(10)])"
   ]
  },
  {
   "cell_type": "code",
   "execution_count": 425,
   "metadata": {},
   "outputs": [
    {
     "data": {
      "text/plain": [
       "Index([             '血糖',              '年龄',        'skew甘油三酯',\n",
       "                       8,            '甘油三酯',                 3,\n",
       "        'skew*r-谷氨酰基转换酶',      'skew*碱性磷酸酶',          '*碱性磷酸酶',\n",
       "                       2,       '低密度脂蛋白胆固醇',            '血红蛋白',\n",
       "                      17,                11,              '性别',\n",
       "                    '尿素',     '红细胞平均血红蛋白浓度',          'skew尿素',\n",
       "                      12,                21,                 1,\n",
       "         'skew*丙氨酸氨基转换酶',            '总胆固醇',      '*r-谷氨酰基转换酶',\n",
       "                      16,           '红细胞计数',                18,\n",
       "                 '红细胞压积',                 9,       '*丙氨酸氨基转换酶',\n",
       "           '*天门冬氨酸氨基转换酶', 'skew*天门冬氨酸氨基转换酶',                 0,\n",
       "                    '肌酐',       'skew白细胞计数',                15,\n",
       "                'skew肌酐',                13,           '白细胞计数',\n",
       "            '红细胞平均血红蛋白量',  'skew红细胞平均血红蛋白量',                20,\n",
       "                  '*球蛋白',                 6,          '中性粒细胞%',\n",
       "                      27,              'id',            '*总蛋白',\n",
       "                       4,                25],\n",
       "      dtype='object')"
      ]
     },
     "execution_count": 425,
     "metadata": {},
     "output_type": "execute_result"
    }
   ],
   "source": [
    "#saleprice correlation matrix\n",
    "k = 50 #number of variables for heatmap\n",
    "corrmat = train.corr()\n",
    "corr_cols = corrmat.nlargest(k, '血糖')['血糖'].index\n",
    "corr_cols"
   ]
  },
  {
   "cell_type": "code",
   "execution_count": 426,
   "metadata": {},
   "outputs": [
    {
     "data": {
      "text/plain": [
       "Index([             '年龄',        'skew甘油三酯',                 8,\n",
       "                  '甘油三酯',                 3,  'skew*r-谷氨酰基转换酶',\n",
       "            'skew*碱性磷酸酶',          '*碱性磷酸酶',                 2,\n",
       "             '低密度脂蛋白胆固醇',            '血红蛋白',                17,\n",
       "                      11,              '性别',              '尿素',\n",
       "           '红细胞平均血红蛋白浓度',          'skew尿素',                12,\n",
       "                      21,                 1,   'skew*丙氨酸氨基转换酶',\n",
       "                  '总胆固醇',      '*r-谷氨酰基转换酶',                16,\n",
       "                 '红细胞计数',                18,           '红细胞压积',\n",
       "                       9,       '*丙氨酸氨基转换酶',     '*天门冬氨酸氨基转换酶',\n",
       "       'skew*天门冬氨酸氨基转换酶',                 0,              '肌酐',\n",
       "             'skew白细胞计数',                15,          'skew肌酐',\n",
       "                      13,           '白细胞计数',      '红细胞平均血红蛋白量',\n",
       "        'skew红细胞平均血红蛋白量',                20,            '*球蛋白',\n",
       "                       6,          '中性粒细胞%',                27,\n",
       "                    'id',            '*总蛋白',                 4,\n",
       "                      25],\n",
       "      dtype='object')"
      ]
     },
     "execution_count": 426,
     "metadata": {},
     "output_type": "execute_result"
    }
   ],
   "source": [
    "corr_cols.drop(['血糖'])"
   ]
  },
  {
   "cell_type": "code",
   "execution_count": 427,
   "metadata": {
    "collapsed": true
   },
   "outputs": [],
   "source": [
    "from sklearn.preprocessing import PolynomialFeatures\n",
    "tran_data = PolynomialFeatures().fit_transform(data[cols])"
   ]
  },
  {
   "cell_type": "code",
   "execution_count": 430,
   "metadata": {},
   "outputs": [],
   "source": [
    "tran_data = pd.DataFrame(tran_data, columns=[x+80 for x in range(561)])"
   ]
  },
  {
   "cell_type": "code",
   "execution_count": 432,
   "metadata": {},
   "outputs": [],
   "source": [
    "tran_data = tran_data.drop([80], axis=1)"
   ]
  },
  {
   "cell_type": "code",
   "execution_count": null,
   "metadata": {
    "collapsed": true
   },
   "outputs": [],
   "source": []
  }
 ],
 "metadata": {
  "kernelspec": {
   "display_name": "Python 3",
   "language": "python",
   "name": "python3"
  },
  "language_info": {
   "codemirror_mode": {
    "name": "ipython",
    "version": 3
   },
   "file_extension": ".py",
   "mimetype": "text/x-python",
   "name": "python",
   "nbconvert_exporter": "python",
   "pygments_lexer": "ipython3",
   "version": "3.6.3"
  }
 },
 "nbformat": 4,
 "nbformat_minor": 2
}
